{
 "cells": [
  {
   "cell_type": "markdown",
   "metadata": {},
   "source": [
    "# Records by Purchase Order"
   ]
  },
  {
   "cell_type": "markdown",
   "metadata": {},
   "source": [
    "## Fetch Internal Timesheets by Purchase Order"
   ]
  },
  {
   "cell_type": "markdown",
   "metadata": {},
   "source": [
    "Fetch All Public Holidays"
   ]
  },
  {
   "cell_type": "code",
   "execution_count": 1,
   "metadata": {},
   "outputs": [
    {
     "name": "stdout",
     "output_type": "stream",
     "text": [
      "           day                  updateAt       id  \\\n",
      "0   2019-01-01  2021-06-24T08:07:17.252Z  2019-01   \n",
      "1   2020-08-09  2021-06-24T08:07:18.489Z  2020-08   \n",
      "2   2020-04-10  2021-06-24T08:07:18.134Z  2020-04   \n",
      "3   2019-05-01  2021-06-24T08:07:17.459Z  2019-05   \n",
      "4   2019-05-19  2021-06-24T08:07:17.501Z  2019-05   \n",
      "5   2019-05-20  2021-06-24T08:07:17.544Z  2019-05   \n",
      "6   2019-10-27  2021-06-24T08:07:17.830Z  2019-10   \n",
      "7   2019-10-28  2021-06-24T08:07:17.874Z  2019-10   \n",
      "8   2020-07-10  2021-06-24T08:07:18.368Z  2020-07   \n",
      "9   2020-07-31  2021-06-24T08:07:18.431Z  2020-07   \n",
      "10  2020-12-25  2021-06-24T08:07:18.565Z  2020-12   \n",
      "11  2021-02-12  2021-06-24T08:07:18.645Z  2021-02   \n",
      "12  2021-02-13  2021-06-24T08:07:18.689Z  2021-02   \n",
      "13  2021-07-20  2021-06-24T08:07:18.958Z  2021-07   \n",
      "14  2020-05-01  2021-06-24T08:07:18.201Z  2020-05   \n",
      "15  2020-05-07  2021-06-24T08:07:18.255Z  2020-05   \n",
      "16  2020-05-24  2021-06-24T08:07:18.293Z  2020-05   \n",
      "17  2020-05-25  2021-06-24T08:07:18.330Z  2020-05   \n",
      "18  2021-12-25  2021-06-24T08:07:19.084Z  2021-12   \n",
      "19  2019-04-19  2021-06-24T08:07:17.413Z  2019-04   \n",
      "20  2021-01-01  2021-06-24T08:07:18.604Z  2021-01   \n",
      "21  2021-05-01  2021-06-24T08:07:18.770Z  2021-05   \n",
      "22  2021-05-13  2021-06-24T08:07:18.828Z  2021-05   \n",
      "23  2021-05-26  2021-06-24T08:07:18.913Z  2021-05   \n",
      "24  2019-08-09  2021-06-24T08:07:17.683Z  2019-08   \n",
      "25  2019-08-11  2021-06-24T08:07:17.733Z  2019-08   \n",
      "26  2019-08-12  2021-06-24T08:07:17.784Z  2019-08   \n",
      "27  2021-08-09  2021-06-24T08:07:18.996Z  2021-08   \n",
      "28  2021-04-02  2021-06-24T08:07:18.732Z  2021-04   \n",
      "29  2021-11-04  2021-06-24T08:07:19.033Z  2021-11   \n",
      "30  2019-12-25  2021-06-24T08:07:17.919Z  2019-12   \n",
      "31  2020-01-01  2021-06-24T08:07:17.961Z  2020-01   \n",
      "32  2020-01-25  2021-06-24T08:07:18.014Z  2020-01   \n",
      "33  2020-01-26  2021-06-24T08:07:18.054Z  2020-01   \n",
      "34  2020-01-27  2021-06-24T08:07:18.094Z  2020-01   \n",
      "35  2019-06-05  2021-06-24T08:07:17.599Z  2019-06   \n",
      "36  2019-02-05  2021-06-24T08:07:17.303Z  2019-02   \n",
      "37  2019-02-06  2021-06-24T08:07:17.357Z  2019-02   \n",
      "\n",
      "                                 name  \n",
      "0                 2019 - New Year Day  \n",
      "1                 2020 - National Day  \n",
      "2                  2020 - Good Friday  \n",
      "3                   2019 - Labour Day  \n",
      "4                    2019 - Vesak Day  \n",
      "5          2019 - Vesak Day (Make Up)  \n",
      "6                    2019 - Deepavali  \n",
      "7          2019 - Deepavali (Make Up)  \n",
      "8                  2020 - Polling Day  \n",
      "9               2020 - Hari Raya Haji  \n",
      "10               2020 - Christmas Day  \n",
      "11            2021 - Chinese New Year  \n",
      "12            2021 - Chinese New Year  \n",
      "13              2021 - Hari Raya Haji  \n",
      "14                  2020 - Labour Day  \n",
      "15                   2020 - Vesak Day  \n",
      "16             2020 - Hari Raya Puasa  \n",
      "17   2020 - Hari Raya Puasa (Make Up)  \n",
      "18               2021 - Christmas Day  \n",
      "19                 2019 - Good Friday  \n",
      "20              2021 - New Year's Day  \n",
      "21                  2021 - Labour Day  \n",
      "22             2021 - Hari Raya Puasa  \n",
      "23                   2021 - Vesak Day  \n",
      "24                2019 - National Day  \n",
      "25              2019 - Hari Raya Haji  \n",
      "26    2019 - Hari Raya Haji (Make Up)  \n",
      "27                2021 - National Day  \n",
      "28                 2021 - Good Friday  \n",
      "29                   2021 - Deepavali  \n",
      "30               2019 - Christmas Day  \n",
      "31              2020 - New Year's Day  \n",
      "32            2020 - Chinese New Year  \n",
      "33            2020 - Chinese New Year  \n",
      "34  2020 - Chinese New Year (Make Up)  \n",
      "35             2019 - Hari Raya Puasa  \n",
      "36            2019 - Chinese New Year  \n",
      "37            2019 - Chinese New Year  \n"
     ]
    }
   ],
   "source": [
    "from classes import byPurchaseOrder as po\n",
    "\n",
    "po.getAllPublicHolidays()\n"
   ]
  }
 ],
 "metadata": {
  "interpreter": {
   "hash": "397704579725e15f5c7cb49fe5f0341eb7531c82d19f2c29d197e8b64ab5776b"
  },
  "kernelspec": {
   "display_name": "Python 3.9.1 64-bit",
   "name": "python3"
  },
  "language_info": {
   "name": "python",
   "version": ""
  },
  "orig_nbformat": 4
 },
 "nbformat": 4,
 "nbformat_minor": 2
}